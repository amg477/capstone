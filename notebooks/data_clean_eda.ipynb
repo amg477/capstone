{
 "cells": [
  {
   "cell_type": "markdown",
   "metadata": {},
   "source": [
    "# Data Cleaning"
   ]
  },
  {
   "cell_type": "code",
   "execution_count": 3,
   "metadata": {},
   "outputs": [],
   "source": [
    "import sys\n",
    "sys.path.append('/Users/annaglass/capstone/capstone')"
   ]
  },
  {
   "cell_type": "code",
   "execution_count": 4,
   "metadata": {},
   "outputs": [],
   "source": [
    "from data.processed.data_processing import data_processing\n",
    "import pandas as pd"
   ]
  },
  {
   "cell_type": "code",
   "execution_count": 14,
   "metadata": {},
   "outputs": [
    {
     "name": "stdout",
     "output_type": "stream",
     "text": [
      "/Users/annaglass/capstone/capstone/notebooks\n"
     ]
    }
   ],
   "source": [
    "import os\n",
    "print(os.getcwd())"
   ]
  },
  {
   "cell_type": "code",
   "execution_count": 16,
   "metadata": {},
   "outputs": [
    {
     "data": {
      "text/html": [
       "<div>\n",
       "<style scoped>\n",
       "    .dataframe tbody tr th:only-of-type {\n",
       "        vertical-align: middle;\n",
       "    }\n",
       "\n",
       "    .dataframe tbody tr th {\n",
       "        vertical-align: top;\n",
       "    }\n",
       "\n",
       "    .dataframe thead th {\n",
       "        text-align: right;\n",
       "    }\n",
       "</style>\n",
       "<table border=\"1\" class=\"dataframe\">\n",
       "  <thead>\n",
       "    <tr style=\"text-align: right;\">\n",
       "      <th></th>\n",
       "      <th>ARTICLE_ID</th>\n",
       "      <th>PUBLICATION</th>\n",
       "      <th>LOAD_DATE</th>\n",
       "      <th>COUNTRY</th>\n",
       "      <th>HEADLINE</th>\n",
       "      <th>ARTICLE TEXT</th>\n",
       "      <th>AUTHOR</th>\n",
       "      <th>SOURCE TYPE</th>\n",
       "      <th>TAGS</th>\n",
       "      <th>CIRCULATION SIZE</th>\n",
       "      <th>CHANNEL</th>\n",
       "      <th>LINK</th>\n",
       "      <th>SENTIMENT</th>\n",
       "    </tr>\n",
       "  </thead>\n",
       "  <tbody>\n",
       "    <tr>\n",
       "      <th>0</th>\n",
       "      <td>19679200667</td>\n",
       "      <td>Dakota Broadcasting</td>\n",
       "      <td>2025-07-31</td>\n",
       "      <td>United States</td>\n",
       "      <td>South Dakota DANR announces are quality alert ...</td>\n",
       "      <td>The South Dakota Department of Agriculture and...</td>\n",
       "      <td>uncredited</td>\n",
       "      <td>Regional News</td>\n",
       "      <td>Air Quality,Climate Change Impacts on Human He...</td>\n",
       "      <td>939</td>\n",
       "      <td>Web</td>\n",
       "      <td>https://dakotabroadcasting.com/south-dakota-da...</td>\n",
       "      <td>Neutral</td>\n",
       "    </tr>\n",
       "    <tr>\n",
       "      <th>1</th>\n",
       "      <td>19679189805</td>\n",
       "      <td>Life Technology</td>\n",
       "      <td>2025-07-31</td>\n",
       "      <td>United States</td>\n",
       "      <td>Study Reveals Statistical Modeling Enhances NT...</td>\n",
       "      <td>Study migrants Italy statistical modeling impr...</td>\n",
       "      <td>uncredited</td>\n",
       "      <td>Consumer</td>\n",
       "      <td>Google,Google News,Publicis Groupe,PressReader...</td>\n",
       "      <td>2612</td>\n",
       "      <td>Web</td>\n",
       "      <td>https://www.lifetechnology.com/blogs/life-tech...</td>\n",
       "      <td>Positive</td>\n",
       "    </tr>\n",
       "    <tr>\n",
       "      <th>2</th>\n",
       "      <td>19679163086</td>\n",
       "      <td>Htv10 Tv</td>\n",
       "      <td>2025-07-31</td>\n",
       "      <td>United States</td>\n",
       "      <td>DR. MARLEN J. TRUJILLO, CEO OF SPRING BRANCH C...</td>\n",
       "      <td>Joining the Harris Health Board is a unique ...</td>\n",
       "      <td>uncredited</td>\n",
       "      <td>Regional News</td>\n",
       "      <td>Harris Health System,Facebook,LinkedIn,Governm...</td>\n",
       "      <td>2886</td>\n",
       "      <td>Web</td>\n",
       "      <td>https://www.htv10.tv/story/52967307/dr-marlen-...</td>\n",
       "      <td>Neutral</td>\n",
       "    </tr>\n",
       "    <tr>\n",
       "      <th>3</th>\n",
       "      <td>19679152080</td>\n",
       "      <td>Archynewsy</td>\n",
       "      <td>2025-07-31</td>\n",
       "      <td>United States</td>\n",
       "      <td>Samcheok City Health Survey 2025: Excellent Area</td>\n",
       "      <td>Samcheok City Recognized for Excellence in R...</td>\n",
       "      <td>Natalie Singh</td>\n",
       "      <td>General News</td>\n",
       "      <td>Ministry of Health and Prevention (UAE),Corner...</td>\n",
       "      <td>2029</td>\n",
       "      <td>Web</td>\n",
       "      <td>https://www.archynewsy.com/samcheok-city-healt...</td>\n",
       "      <td>Positive</td>\n",
       "    </tr>\n",
       "    <tr>\n",
       "      <th>4</th>\n",
       "      <td>19679132677</td>\n",
       "      <td>ReliefWeb</td>\n",
       "      <td>2025-07-31</td>\n",
       "      <td>United States</td>\n",
       "      <td>Health &amp; Wellness Caseworker</td>\n",
       "      <td>Job Overview:  Our Community Health and Well...</td>\n",
       "      <td>uncredited</td>\n",
       "      <td>Government</td>\n",
       "      <td>Well,IRC,Community Mental Health,Crisis,Famili...</td>\n",
       "      <td>653149</td>\n",
       "      <td>Web</td>\n",
       "      <td>https://reliefweb.int/job/4168098/health-welln...</td>\n",
       "      <td>Positive</td>\n",
       "    </tr>\n",
       "  </tbody>\n",
       "</table>\n",
       "</div>"
      ],
      "text/plain": [
       "    ARTICLE_ID          PUBLICATION   LOAD_DATE        COUNTRY  \\\n",
       "0  19679200667  Dakota Broadcasting  2025-07-31  United States   \n",
       "1  19679189805      Life Technology  2025-07-31  United States   \n",
       "2  19679163086             Htv10 Tv  2025-07-31  United States   \n",
       "3  19679152080           Archynewsy  2025-07-31  United States   \n",
       "4  19679132677            ReliefWeb  2025-07-31  United States   \n",
       "\n",
       "                                            HEADLINE  \\\n",
       "0  South Dakota DANR announces are quality alert ...   \n",
       "1  Study Reveals Statistical Modeling Enhances NT...   \n",
       "2  DR. MARLEN J. TRUJILLO, CEO OF SPRING BRANCH C...   \n",
       "3   Samcheok City Health Survey 2025: Excellent Area   \n",
       "4                       Health & Wellness Caseworker   \n",
       "\n",
       "                                        ARTICLE TEXT         AUTHOR  \\\n",
       "0  The South Dakota Department of Agriculture and...     uncredited   \n",
       "1  Study migrants Italy statistical modeling impr...     uncredited   \n",
       "2    Joining the Harris Health Board is a unique ...     uncredited   \n",
       "3    Samcheok City Recognized for Excellence in R...  Natalie Singh   \n",
       "4    Job Overview:  Our Community Health and Well...     uncredited   \n",
       "\n",
       "     SOURCE TYPE                                               TAGS  \\\n",
       "0  Regional News  Air Quality,Climate Change Impacts on Human He...   \n",
       "1       Consumer  Google,Google News,Publicis Groupe,PressReader...   \n",
       "2  Regional News  Harris Health System,Facebook,LinkedIn,Governm...   \n",
       "3   General News  Ministry of Health and Prevention (UAE),Corner...   \n",
       "4     Government  Well,IRC,Community Mental Health,Crisis,Famili...   \n",
       "\n",
       "   CIRCULATION SIZE CHANNEL  \\\n",
       "0               939     Web   \n",
       "1              2612     Web   \n",
       "2              2886     Web   \n",
       "3              2029     Web   \n",
       "4            653149     Web   \n",
       "\n",
       "                                                LINK SENTIMENT  \n",
       "0  https://dakotabroadcasting.com/south-dakota-da...   Neutral  \n",
       "1  https://www.lifetechnology.com/blogs/life-tech...  Positive  \n",
       "2  https://www.htv10.tv/story/52967307/dr-marlen-...   Neutral  \n",
       "3  https://www.archynewsy.com/samcheok-city-healt...  Positive  \n",
       "4  https://reliefweb.int/job/4168098/health-welln...  Positive  "
      ]
     },
     "execution_count": 16,
     "metadata": {},
     "output_type": "execute_result"
    }
   ],
   "source": [
    "df = pd.read_csv('../data/raw/saved_search_jul7day_ex.csv')\n",
    "df = data_processing(df)\n",
    "df.head()"
   ]
  },
  {
   "cell_type": "markdown",
   "metadata": {},
   "source": [
    "# EDA"
   ]
  }
 ],
 "metadata": {
  "kernelspec": {
   "display_name": ".venv",
   "language": "python",
   "name": "python3"
  },
  "language_info": {
   "codemirror_mode": {
    "name": "ipython",
    "version": 3
   },
   "file_extension": ".py",
   "mimetype": "text/x-python",
   "name": "python",
   "nbconvert_exporter": "python",
   "pygments_lexer": "ipython3",
   "version": "3.9.6"
  }
 },
 "nbformat": 4,
 "nbformat_minor": 2
}
